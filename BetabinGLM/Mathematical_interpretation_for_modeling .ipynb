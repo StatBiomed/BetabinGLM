{
 "cells": [
  {
   "cell_type": "markdown",
   "id": "295af792",
   "metadata": {},
   "source": [
    "## Beta-Binomial Regression Model \n",
    "\n",
    "Refer to the [Detailed version](https://github.com/StatBiomed/GLM-hackathon/blob/main/Betabin/Mathematical_interpretation.ipynb) in [GLM-hackathon](https://github.com/StatBiomed/GLM-hackathon), which also has more information ."
   ]
  },
  {
   "cell_type": "markdown",
   "id": "84e8e93c",
   "metadata": {},
   "source": [
    "Beta-binomial regression model accounting for overdispersion in binomial data is one of the simplest Bayesian models. In this package, we perform beta-binomial regression model by means of beta-binomial distribution with a logistic link.\n",
    "\n",
    "Suppose we toss a coin for $N$ trials and observe the number of heads as $y$. The probability of heads is inferred based on the observed data $D$. Let $\\theta \\in [0,1]$ represent the rate parameter (probability of getting a head).\n",
    "\n",
    "We have several ways to estimate the paramters $\\theta$ from observed data $D$. However, these approaches do not account the uncertainty of the estimates and this may cause the problem of overfitting. \n",
    "\n",
    "Hence, if you have proportion data and no need to consider the overdispersion in clustered binomial data, binomial regression model can be adopted. However, if the data is overdispersed and you want to account for the uncertainty of parameter estimation, beta-binomial regression model can be considered. One of the examples is to select the informative clonal SNPs in single cell studies and it is also demonstrated to show how the Betabin package works. You may refer to [documentation.ipynb](https://github.com/StatBiomed/BetabinGLM/blob/main/docs/documentation.ipynb)."
   ]
  },
  {
   "cell_type": "markdown",
   "id": "27cba9e0",
   "metadata": {},
   "source": [
    "### 1. Beta-binomial distribution\n",
    "\n",
    "$$Bb(y|M,\\alpha,\\beta) \\triangleq \\binom {M}{y} \\frac{B(y+\\alpha,M-y+\\beta)}{B(\\alpha, \\beta)}$$"
   ]
  },
  {
   "cell_type": "markdown",
   "id": "7bf4fe27",
   "metadata": {},
   "source": [
    "### 2. Beta-binomial regression model\n",
    "\n",
    "For beta-binomial regression model, we have proportion data $\\binom {M}{y}$ as the endogenous variable and $x$ as the exogenous variable (non-linear predictor). Link function is used to fit the data to a linear model. Here, logit function is used as link function, while inverse of logit function called sigmoid function (i.e., $\\sigma(w^\\mathrm{T}x)$) is used to denot the mapping from the linear inputs to the mean of the output. $w$ is the weight vector (bias $b$ is absorbed into $w$ for convenience)."
   ]
  },
  {
   "cell_type": "markdown",
   "id": "2dec24d7",
   "metadata": {},
   "source": [
    "- Logistic link\n",
    "\n",
    "$$\\sigma(a) = \\frac{1}{1 + e^{-a}}, \\mathrm{where}\\, a = {w^\\mathrm{T}}x$$\n",
    "\n",
    "And $p(y=1|\\theta) = \\sigma(w^\\mathrm{T}x)$ is called logistic regression."
   ]
  },
  {
   "cell_type": "markdown",
   "id": "a72e6b23",
   "metadata": {},
   "source": [
    "By some mathematics (details can be referred to [Mathematical_intepretation.ipynb](https://github.com/StatBiomed/GLM-hackathon)), we can define \n",
    "\n",
    "$$p = \\frac{\\alpha}{\\alpha+\\beta}$$\n",
    "\n",
    "After re-arranging the above formula, we can get\n",
    "\n",
    "$$\\alpha = (1-\\phi)p$$ and $$\\qquad\\beta = \\frac{1}{\\phi}(1-p)+p-1$$"
   ]
  },
  {
   "cell_type": "markdown",
   "id": "0646d552",
   "metadata": {},
   "source": [
    "- Beta-binomial distribution\n",
    "\n",
    "Subsitute back into beta-binomial distribution (1.2), we obtain the final version of the beta-binomial distribution with respect to $w$ and $\\phi$ as the parameters.\n",
    "\n",
    "$$p(y|w,\\phi) = \\binom {M}{y} \\frac{B(y+(1-\\phi)\\sigma(w^\\mathrm{T}x),M-y+\\frac{1}{\\phi}(1-\\sigma(w^\\mathrm{T}x))+\\sigma(w^\\mathrm{T}x)-1)}{B((1-\\phi)\\sigma(w^\\mathrm{T}x), \\frac{1}{\\phi}(1-\\sigma(w^\\mathrm{T}x))+\\sigma(w^\\mathrm{T}x)-1)}$$"
   ]
  },
  {
   "cell_type": "markdown",
   "id": "9acfe68b",
   "metadata": {},
   "source": [
    "- Joint probability for beta-binomial distribution (likelihood)\n",
    "\n",
    "$$p(y^{(i)}|\\Theta) = \\prod \\limits _{i=1}^{n} \\binom {M^{(i)}} {y^{(i)}} \\frac{B(y^{(i)}+\\alpha,M^{(i)}-y^{(i)}+\\beta)}{B(\\alpha, \\beta)}$$\n",
    "\n",
    "- Log-likelihood (LL)\n",
    "\n",
    "$$L(\\Theta) = \\sum \\limits _{i=1}^{n} \\mathrm{log} \\binom {M^{(i)}} {y^{(i)}} + \\mathrm{Betaln}(M^{(i)}-y^{(i)}+\\beta, y^{(i)}+\\alpha) - \\mathrm{Betaln}(\\alpha, \\beta)$$\n",
    "\n",
    "- Objective function / cost function\n",
    "\n",
    "$$\\mathrm{Cost} = -[\\mathrm{Betaln}(M^{(i)}-y^{(i)}+\\beta, y^{(i)}+\\alpha) - \\mathrm{Betaln}(\\alpha, \\beta)]$$\n",
    "\n",
    "\n",
    "In the above function, $\\Theta$ represents the overall parameters (i.e.,$w, \\phi$) that we are interested in. \n",
    "\n",
    "Hence, we will find the parameters which maximize the likelihood function with the optimizer (i.e., scipy.optimize.minimize). In other words, as we maximize the LL or LLH, we are also minimizing the cost. "
   ]
  }
 ],
 "metadata": {
  "kernelspec": {
   "display_name": "Python 3 (ipykernel)",
   "language": "python",
   "name": "python3"
  },
  "language_info": {
   "codemirror_mode": {
    "name": "ipython",
    "version": 3
   },
   "file_extension": ".py",
   "mimetype": "text/x-python",
   "name": "python",
   "nbconvert_exporter": "python",
   "pygments_lexer": "ipython3",
   "version": "3.9.12"
  }
 },
 "nbformat": 4,
 "nbformat_minor": 5
}

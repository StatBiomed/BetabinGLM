{
 "cells": [
  {
   "cell_type": "markdown",
   "metadata": {},
   "source": [
    "# BetabinGLM documentation"
   ]
  },
  {
   "cell_type": "code",
   "execution_count": 1,
   "metadata": {},
   "outputs": [],
   "source": [
    "from BetabinGLM import betabin\n",
    "import scipy as sp\n",
    "import scipy.io\n",
    "import numpy as np\n",
    "import pandas as pd"
   ]
  },
  {
   "cell_type": "markdown",
   "metadata": {},
   "source": [
    "## Load data"
   ]
  },
  {
   "cell_type": "code",
   "execution_count": 2,
   "metadata": {},
   "outputs": [],
   "source": [
    "AD = sp.io.mmread(\"AD.mtx\")\n",
    "DP = sp.io.mmread(\"DP.mtx\")\n",
    "\n",
    "AD1 = np.asarray(AD.todense())\n",
    "DP1 = np.asarray(DP.todense())\n",
    "\n",
    "label = pd.read_csv('id.csv')\n",
    "label1 = label.iloc[:,1].to_numpy()"
   ]
  },
  {
   "cell_type": "markdown",
   "metadata": {},
   "source": [
    "### Label clone id according to id.csv"
   ]
  },
  {
   "cell_type": "code",
   "execution_count": 3,
   "metadata": {},
   "outputs": [],
   "source": [
    "clone0 = np.zeros(77) \n",
    "clone0[np.where(label1 == 0)] = 1\n",
    "clone1 = np.zeros(77) \n",
    "clone1[np.where(label1 == 1)] = 1\n",
    "clone2 = np.zeros(77) \n",
    "clone2[np.where(label1 == 2)] = 1"
   ]
  },
  {
   "cell_type": "markdown",
   "metadata": {},
   "source": [
    "## Sum data for each clone"
   ]
  },
  {
   "cell_type": "code",
   "execution_count": 4,
   "metadata": {},
   "outputs": [],
   "source": [
    "summ = []\n",
    "for n in range(24):     ## There are 24 clones in total\n",
    "    summ.append(np.sum(DP1[n]))"
   ]
  },
  {
   "cell_type": "markdown",
   "metadata": {},
   "source": [
    "## Using BetabinGLM"
   ]
  },
  {
   "cell_type": "markdown",
   "metadata": {},
   "source": [
    "### Log-likelihood for full dataset"
   ]
  },
  {
   "cell_type": "code",
   "execution_count": 5,
   "metadata": {},
   "outputs": [
    {
     "name": "stderr",
     "output_type": "stream",
     "text": [
      "/Users/grace_yang/opt/anaconda3/lib/python3.9/site-packages/BetabinGLM/Betabin.py:15: RuntimeWarning: divide by zero encountered in double_scalars\n",
      "  return (((1 / phi) - 1) * p)\n",
      "/Users/grace_yang/opt/anaconda3/lib/python3.9/site-packages/BetabinGLM/Betabin.py:19: RuntimeWarning: divide by zero encountered in double_scalars\n",
      "  return (((1 / phi) - 1) * (1 - p))\n"
     ]
    },
    {
     "name": "stdout",
     "output_type": "stream",
     "text": [
      "-19.960532314292216\n",
      "-343.31176367855187\n"
     ]
    }
   ],
   "source": [
    "all_LL = []\n",
    "for SNP in range(24):\n",
    "    mask = np.where(DP1[SNP] != 0)      ## Remove all the data with value 0 in DP.mtx to prevent perfect separation\n",
    "    endog = np.array([AD1[SNP][mask], DP1[SNP][mask] - AD1[SNP][mask]]).T       ## Retrieve independent variable array (x values) from AD.mtx and DP.mtx\n",
    "    exog = np.array([clone1[mask], clone2[mask]]).T     ## Retrieve dependent variable array from id.csv\n",
    "    model = betabin(exog, endog)     ## Use BetabinGLM to create model\n",
    "    all_LL.append(model.LL)     ## model.LL returns the negative Log-Likelihood of the current iteration\n",
    "print(max(all_LL))\n",
    "print(min(all_LL))\n",
    "all_LL = np.array(all_LL)"
   ]
  },
  {
   "cell_type": "markdown",
   "metadata": {},
   "source": [
    "### Log-likelihood for clone 0"
   ]
  },
  {
   "cell_type": "code",
   "execution_count": 6,
   "metadata": {},
   "outputs": [
    {
     "name": "stdout",
     "output_type": "stream",
     "text": [
      "-20.181521410577638\n",
      "-344.1839458401173\n"
     ]
    }
   ],
   "source": [
    "clone0_LL = []\n",
    "for SNP in range(24):\n",
    "    mask = np.where(DP1[SNP] != 0)\n",
    "    endog = np.array([AD1[SNP][mask], DP1[SNP][mask] - AD1[SNP][mask]]).T\n",
    "    exog = np.array([clone0[mask]]).T\n",
    "    model = betabin(exog, endog)\n",
    "    clone0_LL.append(model.LL)\n",
    "print(max(clone0_LL))\n",
    "print(min(clone0_LL))\n",
    "clone0_LL = np.array(clone0_LL)"
   ]
  },
  {
   "cell_type": "markdown",
   "metadata": {},
   "source": [
    "### Log-likelihood for clone 1"
   ]
  },
  {
   "cell_type": "code",
   "execution_count": 7,
   "metadata": {},
   "outputs": [
    {
     "name": "stdout",
     "output_type": "stream",
     "text": [
      "-20.156799230187374\n",
      "-343.3180794992113\n"
     ]
    }
   ],
   "source": [
    "clone1_LL = []\n",
    "for SNP in range(24):\n",
    "    mask = np.where(DP1[SNP] != 0)\n",
    "    endog = np.array([AD1[SNP][mask], DP1[SNP][mask] - AD1[SNP][mask]]).T\n",
    "    exog = np.array([clone1[mask]]).T\n",
    "    model = betabin(exog, endog)\n",
    "    clone1_LL.append(model.LL)\n",
    "print(max(clone1_LL))\n",
    "print(min(clone1_LL))\n",
    "clone1_LL = np.array(clone1_LL)"
   ]
  },
  {
   "cell_type": "markdown",
   "metadata": {},
   "source": [
    "### Log-likelihood for clone 2"
   ]
  },
  {
   "cell_type": "code",
   "execution_count": 8,
   "metadata": {},
   "outputs": [
    {
     "name": "stdout",
     "output_type": "stream",
     "text": [
      "-19.962060102618928\n",
      "-345.1818253074907\n"
     ]
    }
   ],
   "source": [
    "clone2_LL = []\n",
    "for SNP in range(24):\n",
    "    mask = np.where(DP1[SNP] != 0)\n",
    "    endog = np.array([AD1[SNP][mask], DP1[SNP][mask] - AD1[SNP][mask]]).T\n",
    "    exog = np.array([clone2[mask]]).T\n",
    "    model = betabin(exog, endog)\n",
    "    clone2_LL.append(model.LL)\n",
    "print(max(clone2_LL))\n",
    "print(min(clone2_LL))\n",
    "clone2_LL = np.array(clone2_LL)"
   ]
  },
  {
   "cell_type": "markdown",
   "metadata": {},
   "source": [
    "### Log-likelihood for null dataset (for comparison)"
   ]
  },
  {
   "cell_type": "code",
   "execution_count": 9,
   "metadata": {},
   "outputs": [
    {
     "name": "stdout",
     "output_type": "stream",
     "text": [
      "-20.18205917612425\n",
      "-345.6647039381587\n"
     ]
    }
   ],
   "source": [
    "# no clones\n",
    "nil_LL = []\n",
    "for SNP in range(24):\n",
    "    mask = np.where(DP1[SNP] != 0)\n",
    "    endog = np.array([AD1[SNP][mask], DP1[SNP][mask] - AD1[SNP][mask]]).T\n",
    "    exog = np.array([np.ones(len(mask[0]))]).T\n",
    "    model = betabin(exog, endog, fit_intercept = False)\n",
    "    nil_LL.append(model.LL)\n",
    "print(max(nil_LL))\n",
    "print(min(nil_LL))\n",
    "nil_LL = np.array(nil_LL)"
   ]
  },
  {
   "cell_type": "markdown",
   "metadata": {},
   "source": [
    "## Beta-binomial regression graph"
   ]
  },
  {
   "cell_type": "code",
   "execution_count": 11,
   "metadata": {},
   "outputs": [
    {
     "data": {
      "image/png": "[encoded data removed]",
      "text/plain": [
       "<Figure size 1440x720 with 1 Axes>"
      ]
     },
     "metadata": {
      "needs_background": "light"
     },
     "output_type": "display_data"
    }
   ],
   "source": [
    "import matplotlib.pyplot as plt\n",
    "SNPS = np.arange(1, 25, dtype = int)\n",
    "fig, ax1 = plt.subplots(1, 1)\n",
    "fig.set_size_inches(20, 10)\n",
    "plt.bar(SNPS - 0.3, all_LL-nil_LL, width=0.2, color ='b', zorder=5, label='All clones')\n",
    "plt.bar(SNPS - 0.1, clone0_LL-nil_LL, width=0.2, color ='r', zorder=4, label='Clone 0')\n",
    "plt.bar(SNPS + 0.1, clone1_LL-nil_LL, width=0.2, color ='y', zorder=2, label='Clone 1')\n",
    "plt.bar(SNPS + 0.3, clone2_LL-nil_LL, width=0.2, color ='m', zorder=0, label='Clone 2')\n",
    "f = open('passed_variant_names.txt', 'r')\n",
    "xLabel = f.readlines()\n",
    "f.close()\n",
    "plt.xticks(np.arange(1, 25, 1), xLabel, rotation=45)\n",
    "plt.title(\"Beta-binomial regression on MQuad data\", fontsize=18)\n",
    "plt.xlabel(\"SNP\", fontsize=14)\n",
    "plt.ylabel(\"Relative log-likelihood\", fontsize=14)\n",
    "plt.legend()\n",
    "plt.savefig('betabin.png')\n",
    "\n",
    "plt.show()"
   ]
  }
 ],
 "metadata": {
  "kernelspec": {
   "display_name": "Python 3.7.9 ('base')",
   "language": "python",
   "name": "python3"
  },
  "language_info": {
   "codemirror_mode": {
    "name": "ipython",
    "version": 3
   },
   "file_extension": ".py",
   "mimetype": "text/x-python",
   "name": "python",
   "nbconvert_exporter": "python",
   "pygments_lexer": "ipython3",
   "version": "3.7.9"
  },
  "vscode": {
   "interpreter": {
    "hash": "40d3a090f54c6569ab1632332b64b2c03c39dcf918b08424e98f38b5ae0af88f"
   }
  }
 },
 "nbformat": 4,
 "nbformat_minor": 2
}
